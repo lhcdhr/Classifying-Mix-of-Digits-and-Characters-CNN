{
  "nbformat": 4,
  "nbformat_minor": 0,
  "metadata": {
    "colab": {
      "name": "A3_tensorflow_2021_1126_2019_combine.ipynb",
      "provenance": [],
      "collapsed_sections": []
    },
    "kernelspec": {
      "display_name": "Python 3",
      "language": "python",
      "name": "python3"
    },
    "language_info": {
      "codemirror_mode": {
        "name": "ipython",
        "version": 3
      },
      "file_extension": ".py",
      "mimetype": "text/x-python",
      "name": "python",
      "nbconvert_exporter": "python",
      "pygments_lexer": "ipython3",
      "version": "3.8.2"
    }
  },
  "cells": [
    {
      "cell_type": "code",
      "metadata": {
        "id": "ndJwgtVHSM8R"
      },
      "source": [
        "from tensorflow.keras.models import Sequential\n",
        "from tensorflow.keras import backend as K\n",
        "from tensorflow.keras.layers import BatchNormalization\n",
        "from tensorflow.keras.layers import Conv2D\n",
        "from tensorflow.keras.layers import RandomRotation\n",
        "from tensorflow.keras.layers import MaxPooling2D\n",
        "from tensorflow.keras.layers import Activation\n",
        "from tensorflow.keras.layers import Flatten\n",
        "from tensorflow.keras.layers import Dropout\n",
        "from tensorflow.keras.layers import Dense\n",
        "from tensorflow.keras.layers import Resizing\n",
        "from tensorflow.keras.layers import Rescaling\n",
        "import tensorflow as tf\n",
        "from tensorflow.keras.optimizers import Adam\n",
        "import pickle\n",
        "import numpy as np\n",
        "import matplotlib.pyplot as plt\n",
        "import copy\n",
        "import random\n",
        "from scipy import ndimage\n",
        "import cv2"
      ],
      "execution_count": 1,
      "outputs": []
    },
    {
      "cell_type": "code",
      "metadata": {
        "id": "WiXLZonQwDPr"
      },
      "source": [
        "# preprocessing\n",
        "\"\"\"\n",
        "def SoftenNoise(arrayOfPics):\n",
        "    x,y,z = arrayOfPics.shape\n",
        "    c = copy.deepcopy(arrayOfPics)\n",
        "    c = np.float32(c)\n",
        "    for i in range(x):\n",
        "        c[i] = cv2.medianBlur(c[i],3)\n",
        "    return c\n",
        "\"\"\"\n",
        "def SoftenNoise(arrayOfPics):\n",
        "    x,y,z = arrayOfPics.shape\n",
        "    c = copy.deepcopy(arrayOfPics)\n",
        "    for i in range(x):\n",
        "        c[i] = ndimage.gaussian_filter(c[i], 0.69)\n",
        "    return c\n",
        "def Normalize(arrayOfPics):\n",
        "    x,y,z = arrayOfPics.shape\n",
        "    c = copy.deepcopy(arrayOfPics)\n",
        "    for i in range(x):\n",
        "        for j in range(y):\n",
        "            for k in range(z):\n",
        "                if c[i][j][k] > 255:\n",
        "                    c[i][j][k] = 1.0 \n",
        "                else:\n",
        "                    raw = c[i][j][k]\n",
        "                    c[i][j][k] = raw/255\n",
        "    return c\n",
        "\n",
        "def process_img(arrayOfPics):\n",
        "    arrayOfPics = SoftenNoise(arrayOfPics)\n",
        "    arrayOfPics = Normalize(arrayOfPics)\n",
        "    return arrayOfPics\n"
      ],
      "execution_count": 2,
      "outputs": []
    },
    {
      "cell_type": "code",
      "metadata": {
        "id": "vCdx9C8iSdML"
      },
      "source": [
        "\"\"\"\n",
        "with open(\"/content/drive/MyDrive/551A3/images_l.pkl\", 'rb') as f:\n",
        "  training_data = pickle.load(f)\n",
        "with open(\"/content/drive/MyDrive/551A3/labels_l.pkl\", 'rb') as f:\n",
        "  training_label = pickle.load(f)\n",
        "\"\"\"\n",
        "# load labeled data\n",
        "with open(\"images_l.pkl\", 'rb') as f:\n",
        "  training_data = pickle.load(f)\n",
        "with open(\"labels_l.pkl\", 'rb') as f:\n",
        "  training_label = pickle.load(f)\n"
      ],
      "execution_count": 3,
      "outputs": []
    },
    {
      "cell_type": "code",
      "metadata": {
        "id": "bBQDRL3CwN4J"
      },
      "source": [
        "# one-hot encoding for labels\n",
        "all_class = {}\n",
        "def encode(x):\n",
        "    where1s = np.where(x == 1)\n",
        "    # print(where1s[0][0])\n",
        "    index = where1s[0][0] * 26 + (where1s[0][1] - 10)\n",
        "    result = np.zeros(260, dtype=np.int_)\n",
        "    result[index] = 1\n",
        "    if index not in all_class:\n",
        "        all_class[index] = result\n",
        "    return result\n",
        "\n",
        "def decode(x):\n",
        "    where1s = np.where(x == 1)\n",
        "    # print(where1s[0][0])\n",
        "    index1 = (where1s[0][0]) // 26\n",
        "    index2 = (where1s[0][0]) % 26  + 10\n",
        "    result = np.zeros(36)\n",
        "    result[index1] = 1\n",
        "    result[index2] = 1\n",
        "    return result\n",
        "\n",
        "def process_label(arrayOfLabels):\n",
        "    l = []\n",
        "    x = arrayOfLabels.shape[0]\n",
        "    for i in range(x):\n",
        "        l.append(encode(arrayOfLabels[i]))\n",
        "    return np.array(l)\n",
        "\n",
        "training_label = process_label(training_label)"
      ],
      "execution_count": 4,
      "outputs": []
    },
    {
      "cell_type": "code",
      "metadata": {
        "id": "sACwhvHvqk_E"
      },
      "source": [
        "class SmallerVGGNet:\n",
        "\t@staticmethod\n",
        "\tdef build(width, height, depth, classes, finalAct=\"sigmoid\"):\n",
        "\t\tmodel = Sequential()\n",
        "\t\tinputShape = (height, width, depth)\n",
        "\t\tchanDim = -1\n",
        "\t\tif K.image_data_format() == \"channels_first\":\n",
        "\t\t\tinputShape = (depth, height, width)\n",
        "\t\t\tchanDim = 1\n",
        "\t\t# CONV 32 => RELU => POOL\n",
        "\t\tmodel.add(Conv2D(32, (3, 3), padding=\"same\", input_shape=inputShape))\n",
        "\t\tmodel.add(Activation(\"relu\"))\n",
        "\t\tmodel.add(BatchNormalization(axis=chanDim))\n",
        "\t\tmodel.add(MaxPooling2D(pool_size=(3, 3)))\n",
        "\t\tmodel.add(Dropout(0.25))\n",
        "\t\t# (CONV 64 => RELU) * 2 => POOL\n",
        "\t\tmodel.add(Conv2D(64, (3, 3), padding=\"same\"))\n",
        "\t\tmodel.add(Activation(\"relu\"))\n",
        "\t\tmodel.add(BatchNormalization(axis=chanDim))\n",
        "\t\tmodel.add(Conv2D(64, (3, 3), padding=\"same\"))\n",
        "\t\tmodel.add(Activation(\"relu\"))\n",
        "\t\tmodel.add(BatchNormalization(axis=chanDim))\n",
        "\t\tmodel.add(MaxPooling2D(pool_size=(2, 2)))\n",
        "\t\tmodel.add(Dropout(0.25))\n",
        "\t\t# (CONV 128 => RELU) * 2 => POOL\n",
        "\t\tmodel.add(Conv2D(128, (3, 3), padding=\"same\"))\n",
        "\t\tmodel.add(Activation(\"relu\"))\n",
        "\t\tmodel.add(BatchNormalization(axis=chanDim))\n",
        "\t\tmodel.add(Conv2D(128, (3, 3), padding=\"same\"))\n",
        "\t\tmodel.add(Activation(\"relu\"))\n",
        "\t\tmodel.add(BatchNormalization(axis=chanDim))\n",
        "\t\tmodel.add(MaxPooling2D(pool_size=(2, 2)))\n",
        "\t\tmodel.add(Dropout(0.25))\n",
        "  \t\t# (CONV 256 => RELU) * 2 => POOL\n",
        "\t\tmodel.add(Conv2D(256, (3, 3), padding=\"same\"))\n",
        "\t\tmodel.add(Activation(\"relu\"))\n",
        "\t\tmodel.add(BatchNormalization(axis=chanDim))\n",
        "\t\tmodel.add(Conv2D(256, (3, 3), padding=\"same\"))\n",
        "\t\tmodel.add(Activation(\"relu\"))\n",
        "\t\tmodel.add(BatchNormalization(axis=chanDim))\n",
        "\t\tmodel.add(MaxPooling2D(pool_size=(2, 2)))\n",
        "\t\tmodel.add(Dropout(0.25))\n",
        "    \t# (CONV 512 => RELU) * 2 => POOL\n",
        "\t\tmodel.add(Conv2D(512, (3, 3), padding=\"same\"))\n",
        "\t\tmodel.add(Activation(\"relu\"))\n",
        "\t\tmodel.add(BatchNormalization(axis=chanDim))\n",
        "\t\tmodel.add(Conv2D(512, (3, 3), padding=\"same\"))\n",
        "\t\tmodel.add(Activation(\"relu\"))\n",
        "\t\tmodel.add(BatchNormalization(axis=chanDim))\n",
        "\t\tmodel.add(MaxPooling2D(pool_size=(2, 2)))\n",
        "\t\tmodel.add(Dropout(0.25))\n",
        "  \t\t#  FC 4096 => ReLU\n",
        "\t\tmodel.add(Flatten())\n",
        "\t\tmodel.add(Dense(4096))\n",
        "\t\tmodel.add(Activation(\"relu\"))\n",
        "\t\tmodel.add(BatchNormalization())\n",
        "\t\tmodel.add(Dropout(0.5))\n",
        "    \t#  FC 1024 => ReLU\n",
        "\t\tmodel.add(Flatten())\n",
        "\t\tmodel.add(Dense(1024))\n",
        "\t\tmodel.add(Activation(\"relu\"))\n",
        "\t\tmodel.add(BatchNormalization())\n",
        "\t\tmodel.add(Dropout(0.5))\n",
        "\t\t# to 260\n",
        "\t\tmodel.add(Dense(classes))\n",
        "\t\tmodel.add(Activation(finalAct))\n",
        "\t\treturn model\n"
      ],
      "execution_count": 9,
      "outputs": []
    },
    {
      "cell_type": "code",
      "metadata": {
        "id": "zYs0CuUqtHsB"
      },
      "source": [
        "# step 1: train a model with labeled data\n",
        "\n",
        "#training_data = process_img(training_data)\n",
        "training_data_step1 = training_data.reshape(-1,56,56,1)\n",
        "training_label_step1 = copy.deepcopy(training_label)"
      ],
      "execution_count": 10,
      "outputs": []
    },
    {
      "cell_type": "code",
      "metadata": {
        "colab": {
          "base_uri": "https://localhost:8080/"
        },
        "id": "l7LSgSIGK8DZ",
        "outputId": "1aec563e-3b9c-478c-bcb4-0b5f916d171b"
      },
      "source": [
        "EPOCHS = 150\n",
        "LR = 5e-4\n",
        "BATCH_SIZE = 16\n",
        "IMAGE_DIMS = (56, 56, 1)\n",
        "model_1=SmallerVGGNet.build(width=56,height=56,depth=1,classes=260)\n",
        "opt = Adam(lr=LR, decay=LR / (2*EPOCHS))\n",
        "model_1.compile(loss=\"binary_crossentropy\", optimizer=opt,metrics=[\"accuracy\"])\n"
      ],
      "execution_count": 11,
      "outputs": [
        {
          "output_type": "stream",
          "name": "stderr",
          "text": [
            "/usr/local/lib/python3.7/dist-packages/keras/optimizer_v2/optimizer_v2.py:356: UserWarning: The `lr` argument is deprecated, use `learning_rate` instead.\n",
            "  \"The `lr` argument is deprecated, use `learning_rate` instead.\")\n"
          ]
        }
      ]
    },
    {
      "cell_type": "code",
      "metadata": {
        "colab": {
          "base_uri": "https://localhost:8080/"
        },
        "id": "D5i4vWTdOwWi",
        "outputId": "73b42756-2344-4cd9-c3df-7aebe2b1c8e2"
      },
      "source": [
        "H1 = model_1.fit(x=training_data_step1, y=training_label_step1, epochs=EPOCHS, validation_split=0.2, batch_size=BATCH_SIZE)\n"
      ],
      "execution_count": 12,
      "outputs": [
        {
          "output_type": "stream",
          "name": "stdout",
          "text": [
            "Epoch 1/150\n",
            "1500/1500 [==============================] - 19s 12ms/step - loss: 0.1297 - accuracy: 0.0133 - val_loss: 0.0258 - val_accuracy: 0.0087\n",
            "Epoch 2/150\n",
            "1500/1500 [==============================] - 18s 12ms/step - loss: 0.0236 - accuracy: 0.0234 - val_loss: 0.0247 - val_accuracy: 0.0165\n",
            "Epoch 3/150\n",
            "1500/1500 [==============================] - 18s 12ms/step - loss: 0.0224 - accuracy: 0.0286 - val_loss: 0.0233 - val_accuracy: 0.0162\n",
            "Epoch 4/150\n",
            "1500/1500 [==============================] - 18s 12ms/step - loss: 0.0215 - accuracy: 0.0316 - val_loss: 0.0240 - val_accuracy: 0.0190\n",
            "Epoch 5/150\n",
            "1500/1500 [==============================] - 18s 12ms/step - loss: 0.0208 - accuracy: 0.0344 - val_loss: 0.0186 - val_accuracy: 0.0403\n",
            "Epoch 6/150\n",
            "1500/1500 [==============================] - 18s 12ms/step - loss: 0.0200 - accuracy: 0.0390 - val_loss: 0.0212 - val_accuracy: 0.0392\n",
            "Epoch 7/150\n",
            "1500/1500 [==============================] - 18s 12ms/step - loss: 0.0193 - accuracy: 0.0469 - val_loss: 0.0180 - val_accuracy: 0.0582\n",
            "Epoch 8/150\n",
            "1500/1500 [==============================] - 18s 12ms/step - loss: 0.0186 - accuracy: 0.0567 - val_loss: 0.0170 - val_accuracy: 0.0707\n",
            "Epoch 9/150\n",
            "1500/1500 [==============================] - 18s 12ms/step - loss: 0.0179 - accuracy: 0.0674 - val_loss: 0.0160 - val_accuracy: 0.0983\n",
            "Epoch 10/150\n",
            "1500/1500 [==============================] - 18s 12ms/step - loss: 0.0172 - accuracy: 0.0880 - val_loss: 0.0162 - val_accuracy: 0.1058\n",
            "Epoch 11/150\n",
            "1500/1500 [==============================] - 18s 12ms/step - loss: 0.0165 - accuracy: 0.1143 - val_loss: 0.0142 - val_accuracy: 0.1790\n",
            "Epoch 12/150\n",
            "1500/1500 [==============================] - 18s 12ms/step - loss: 0.0156 - accuracy: 0.1487 - val_loss: 0.0128 - val_accuracy: 0.2558\n",
            "Epoch 13/150\n",
            "1500/1500 [==============================] - 18s 12ms/step - loss: 0.0145 - accuracy: 0.2030 - val_loss: 0.0117 - val_accuracy: 0.3173\n",
            "Epoch 14/150\n",
            "1500/1500 [==============================] - 18s 12ms/step - loss: 0.0134 - accuracy: 0.2563 - val_loss: 0.0111 - val_accuracy: 0.3697\n",
            "Epoch 15/150\n",
            "1500/1500 [==============================] - 18s 12ms/step - loss: 0.0125 - accuracy: 0.3110 - val_loss: 0.0098 - val_accuracy: 0.4647\n",
            "Epoch 16/150\n",
            "1500/1500 [==============================] - 18s 12ms/step - loss: 0.0117 - accuracy: 0.3668 - val_loss: 0.0107 - val_accuracy: 0.4423\n",
            "Epoch 17/150\n",
            "1500/1500 [==============================] - 18s 12ms/step - loss: 0.0108 - accuracy: 0.4243 - val_loss: 0.0079 - val_accuracy: 0.5803\n",
            "Epoch 18/150\n",
            "1500/1500 [==============================] - 18s 12ms/step - loss: 0.0098 - accuracy: 0.4848 - val_loss: 0.0068 - val_accuracy: 0.6560\n",
            "Epoch 19/150\n",
            "1500/1500 [==============================] - 18s 12ms/step - loss: 0.0091 - accuracy: 0.5380 - val_loss: 0.0060 - val_accuracy: 0.7143\n",
            "Epoch 20/150\n",
            "1500/1500 [==============================] - 18s 12ms/step - loss: 0.0083 - accuracy: 0.5881 - val_loss: 0.0055 - val_accuracy: 0.7343\n",
            "Epoch 21/150\n",
            "1500/1500 [==============================] - 18s 12ms/step - loss: 0.0077 - accuracy: 0.6295 - val_loss: 0.0048 - val_accuracy: 0.7728\n",
            "Epoch 22/150\n",
            "1500/1500 [==============================] - 18s 12ms/step - loss: 0.0072 - accuracy: 0.6616 - val_loss: 0.0045 - val_accuracy: 0.7995\n",
            "Epoch 23/150\n",
            "1500/1500 [==============================] - 18s 12ms/step - loss: 0.0066 - accuracy: 0.6903 - val_loss: 0.0041 - val_accuracy: 0.8202\n",
            "Epoch 24/150\n",
            "1500/1500 [==============================] - 18s 12ms/step - loss: 0.0062 - accuracy: 0.7196 - val_loss: 0.0037 - val_accuracy: 0.8352\n",
            "Epoch 25/150\n",
            "1500/1500 [==============================] - 18s 12ms/step - loss: 0.0059 - accuracy: 0.7364 - val_loss: 0.0036 - val_accuracy: 0.8413\n",
            "Epoch 26/150\n",
            "1500/1500 [==============================] - 18s 12ms/step - loss: 0.0055 - accuracy: 0.7566 - val_loss: 0.0032 - val_accuracy: 0.8625\n",
            "Epoch 27/150\n",
            "1500/1500 [==============================] - 18s 12ms/step - loss: 0.0053 - accuracy: 0.7732 - val_loss: 0.0031 - val_accuracy: 0.8728\n",
            "Epoch 28/150\n",
            "1500/1500 [==============================] - 18s 12ms/step - loss: 0.0049 - accuracy: 0.7889 - val_loss: 0.0030 - val_accuracy: 0.8700\n",
            "Epoch 29/150\n",
            "1500/1500 [==============================] - 18s 12ms/step - loss: 0.0047 - accuracy: 0.8006 - val_loss: 0.0028 - val_accuracy: 0.8797\n",
            "Epoch 30/150\n",
            "1500/1500 [==============================] - 18s 12ms/step - loss: 0.0045 - accuracy: 0.8154 - val_loss: 0.0027 - val_accuracy: 0.8832\n",
            "Epoch 31/150\n",
            "1500/1500 [==============================] - 18s 12ms/step - loss: 0.0042 - accuracy: 0.8269 - val_loss: 0.0026 - val_accuracy: 0.8888\n",
            "Epoch 32/150\n",
            "1500/1500 [==============================] - 18s 12ms/step - loss: 0.0041 - accuracy: 0.8320 - val_loss: 0.0025 - val_accuracy: 0.8973\n",
            "Epoch 33/150\n",
            "1500/1500 [==============================] - 18s 12ms/step - loss: 0.0039 - accuracy: 0.8416 - val_loss: 0.0026 - val_accuracy: 0.8920\n",
            "Epoch 34/150\n",
            "1500/1500 [==============================] - 18s 12ms/step - loss: 0.0037 - accuracy: 0.8497 - val_loss: 0.0025 - val_accuracy: 0.8980\n",
            "Epoch 35/150\n",
            "1500/1500 [==============================] - 18s 12ms/step - loss: 0.0035 - accuracy: 0.8565 - val_loss: 0.0022 - val_accuracy: 0.9087\n",
            "Epoch 36/150\n",
            "1500/1500 [==============================] - 18s 12ms/step - loss: 0.0034 - accuracy: 0.8639 - val_loss: 0.0022 - val_accuracy: 0.9125\n",
            "Epoch 37/150\n",
            "1500/1500 [==============================] - 18s 12ms/step - loss: 0.0032 - accuracy: 0.8702 - val_loss: 0.0022 - val_accuracy: 0.9130\n",
            "Epoch 38/150\n",
            "1500/1500 [==============================] - 18s 12ms/step - loss: 0.0031 - accuracy: 0.8809 - val_loss: 0.0022 - val_accuracy: 0.9138\n",
            "Epoch 39/150\n",
            "1500/1500 [==============================] - 18s 12ms/step - loss: 0.0030 - accuracy: 0.8804 - val_loss: 0.0021 - val_accuracy: 0.9090\n",
            "Epoch 40/150\n",
            "1500/1500 [==============================] - 18s 12ms/step - loss: 0.0029 - accuracy: 0.8873 - val_loss: 0.0022 - val_accuracy: 0.9127\n",
            "Epoch 41/150\n",
            "1500/1500 [==============================] - 18s 12ms/step - loss: 0.0027 - accuracy: 0.8930 - val_loss: 0.0021 - val_accuracy: 0.9120\n",
            "Epoch 42/150\n",
            "1500/1500 [==============================] - 18s 12ms/step - loss: 0.0027 - accuracy: 0.8966 - val_loss: 0.0022 - val_accuracy: 0.9117\n",
            "Epoch 43/150\n",
            "1500/1500 [==============================] - 18s 12ms/step - loss: 0.0025 - accuracy: 0.9021 - val_loss: 0.0021 - val_accuracy: 0.9180\n",
            "Epoch 44/150\n",
            "1500/1500 [==============================] - 18s 12ms/step - loss: 0.0025 - accuracy: 0.9062 - val_loss: 0.0021 - val_accuracy: 0.9177\n",
            "Epoch 45/150\n",
            "1500/1500 [==============================] - 18s 12ms/step - loss: 0.0025 - accuracy: 0.9061 - val_loss: 0.0021 - val_accuracy: 0.9153\n",
            "Epoch 46/150\n",
            "1500/1500 [==============================] - 18s 12ms/step - loss: 0.0023 - accuracy: 0.9161 - val_loss: 0.0020 - val_accuracy: 0.9190\n",
            "Epoch 47/150\n",
            "1500/1500 [==============================] - 18s 12ms/step - loss: 0.0022 - accuracy: 0.9164 - val_loss: 0.0021 - val_accuracy: 0.9180\n",
            "Epoch 48/150\n",
            "1500/1500 [==============================] - 18s 12ms/step - loss: 0.0022 - accuracy: 0.9182 - val_loss: 0.0020 - val_accuracy: 0.9195\n",
            "Epoch 49/150\n",
            "1500/1500 [==============================] - 18s 12ms/step - loss: 0.0021 - accuracy: 0.9221 - val_loss: 0.0020 - val_accuracy: 0.9217\n",
            "Epoch 50/150\n",
            "1500/1500 [==============================] - 18s 12ms/step - loss: 0.0020 - accuracy: 0.9285 - val_loss: 0.0021 - val_accuracy: 0.9205\n",
            "Epoch 51/150\n",
            "1500/1500 [==============================] - 18s 12ms/step - loss: 0.0020 - accuracy: 0.9258 - val_loss: 0.0020 - val_accuracy: 0.9253\n",
            "Epoch 52/150\n",
            "1500/1500 [==============================] - 18s 12ms/step - loss: 0.0019 - accuracy: 0.9281 - val_loss: 0.0022 - val_accuracy: 0.9207\n",
            "Epoch 53/150\n",
            "1500/1500 [==============================] - 18s 12ms/step - loss: 0.0019 - accuracy: 0.9309 - val_loss: 0.0022 - val_accuracy: 0.9175\n",
            "Epoch 54/150\n",
            "1500/1500 [==============================] - 18s 12ms/step - loss: 0.0018 - accuracy: 0.9329 - val_loss: 0.0023 - val_accuracy: 0.9152\n",
            "Epoch 55/150\n",
            "1500/1500 [==============================] - 18s 12ms/step - loss: 0.0018 - accuracy: 0.9355 - val_loss: 0.0021 - val_accuracy: 0.9210\n",
            "Epoch 56/150\n",
            "1500/1500 [==============================] - 18s 12ms/step - loss: 0.0017 - accuracy: 0.9373 - val_loss: 0.0021 - val_accuracy: 0.9232\n",
            "Epoch 57/150\n",
            "1500/1500 [==============================] - 18s 12ms/step - loss: 0.0017 - accuracy: 0.9385 - val_loss: 0.0021 - val_accuracy: 0.9203\n",
            "Epoch 58/150\n",
            "1500/1500 [==============================] - 18s 12ms/step - loss: 0.0016 - accuracy: 0.9422 - val_loss: 0.0021 - val_accuracy: 0.9255\n",
            "Epoch 59/150\n",
            "1500/1500 [==============================] - 18s 12ms/step - loss: 0.0016 - accuracy: 0.9413 - val_loss: 0.0020 - val_accuracy: 0.9282\n",
            "Epoch 60/150\n",
            "1500/1500 [==============================] - 18s 12ms/step - loss: 0.0016 - accuracy: 0.9438 - val_loss: 0.0021 - val_accuracy: 0.9260\n",
            "Epoch 61/150\n",
            "1500/1500 [==============================] - 18s 12ms/step - loss: 0.0016 - accuracy: 0.9419 - val_loss: 0.0021 - val_accuracy: 0.9255\n",
            "Epoch 62/150\n",
            "1500/1500 [==============================] - 18s 12ms/step - loss: 0.0015 - accuracy: 0.9474 - val_loss: 0.0022 - val_accuracy: 0.9252\n",
            "Epoch 63/150\n",
            "1500/1500 [==============================] - 18s 12ms/step - loss: 0.0014 - accuracy: 0.9479 - val_loss: 0.0022 - val_accuracy: 0.9250\n",
            "Epoch 64/150\n",
            "1500/1500 [==============================] - 18s 12ms/step - loss: 0.0014 - accuracy: 0.9509 - val_loss: 0.0021 - val_accuracy: 0.9282\n",
            "Epoch 65/150\n",
            "1500/1500 [==============================] - 18s 12ms/step - loss: 0.0014 - accuracy: 0.9501 - val_loss: 0.0021 - val_accuracy: 0.9255\n",
            "Epoch 66/150\n",
            "1500/1500 [==============================] - 18s 12ms/step - loss: 0.0014 - accuracy: 0.9495 - val_loss: 0.0020 - val_accuracy: 0.9288\n",
            "Epoch 67/150\n",
            "1500/1500 [==============================] - 18s 12ms/step - loss: 0.0013 - accuracy: 0.9545 - val_loss: 0.0020 - val_accuracy: 0.9332\n",
            "Epoch 68/150\n",
            "1500/1500 [==============================] - 18s 12ms/step - loss: 0.0013 - accuracy: 0.9553 - val_loss: 0.0021 - val_accuracy: 0.9305\n",
            "Epoch 69/150\n",
            "1500/1500 [==============================] - 18s 12ms/step - loss: 0.0012 - accuracy: 0.9580 - val_loss: 0.0021 - val_accuracy: 0.9313\n",
            "Epoch 70/150\n",
            "1500/1500 [==============================] - 18s 12ms/step - loss: 0.0012 - accuracy: 0.9567 - val_loss: 0.0020 - val_accuracy: 0.9278\n",
            "Epoch 71/150\n",
            "1500/1500 [==============================] - 18s 12ms/step - loss: 0.0012 - accuracy: 0.9584 - val_loss: 0.0021 - val_accuracy: 0.9308\n",
            "Epoch 72/150\n",
            "1500/1500 [==============================] - 18s 12ms/step - loss: 0.0012 - accuracy: 0.9581 - val_loss: 0.0021 - val_accuracy: 0.9338\n",
            "Epoch 73/150\n",
            "1500/1500 [==============================] - 18s 12ms/step - loss: 0.0012 - accuracy: 0.9587 - val_loss: 0.0021 - val_accuracy: 0.9313\n",
            "Epoch 74/150\n",
            "1500/1500 [==============================] - 18s 12ms/step - loss: 0.0011 - accuracy: 0.9632 - val_loss: 0.0022 - val_accuracy: 0.9278\n",
            "Epoch 75/150\n",
            "1500/1500 [==============================] - 18s 12ms/step - loss: 0.0011 - accuracy: 0.9607 - val_loss: 0.0021 - val_accuracy: 0.9300\n",
            "Epoch 76/150\n",
            "1500/1500 [==============================] - 18s 12ms/step - loss: 0.0011 - accuracy: 0.9635 - val_loss: 0.0022 - val_accuracy: 0.9295\n",
            "Epoch 77/150\n",
            "1500/1500 [==============================] - 18s 12ms/step - loss: 0.0011 - accuracy: 0.9633 - val_loss: 0.0021 - val_accuracy: 0.9287\n",
            "Epoch 78/150\n",
            "1500/1500 [==============================] - 18s 12ms/step - loss: 0.0011 - accuracy: 0.9631 - val_loss: 0.0021 - val_accuracy: 0.9303\n",
            "Epoch 79/150\n",
            "1500/1500 [==============================] - 18s 12ms/step - loss: 0.0011 - accuracy: 0.9640 - val_loss: 0.0022 - val_accuracy: 0.9275\n",
            "Epoch 80/150\n",
            "1500/1500 [==============================] - 18s 12ms/step - loss: 9.9855e-04 - accuracy: 0.9667 - val_loss: 0.0022 - val_accuracy: 0.9302\n",
            "Epoch 81/150\n",
            "1500/1500 [==============================] - 18s 12ms/step - loss: 0.0011 - accuracy: 0.9646 - val_loss: 0.0023 - val_accuracy: 0.9265\n",
            "Epoch 82/150\n",
            "1500/1500 [==============================] - 18s 12ms/step - loss: 0.0010 - accuracy: 0.9661 - val_loss: 0.0020 - val_accuracy: 0.9322\n",
            "Epoch 83/150\n",
            "1500/1500 [==============================] - 18s 12ms/step - loss: 9.7699e-04 - accuracy: 0.9675 - val_loss: 0.0021 - val_accuracy: 0.9300\n",
            "Epoch 84/150\n",
            "1500/1500 [==============================] - 18s 12ms/step - loss: 9.2745e-04 - accuracy: 0.9694 - val_loss: 0.0023 - val_accuracy: 0.9263\n",
            "Epoch 85/150\n",
            "1500/1500 [==============================] - 18s 12ms/step - loss: 9.2780e-04 - accuracy: 0.9685 - val_loss: 0.0022 - val_accuracy: 0.9277\n",
            "Epoch 86/150\n",
            "1500/1500 [==============================] - 18s 12ms/step - loss: 9.2495e-04 - accuracy: 0.9691 - val_loss: 0.0022 - val_accuracy: 0.9318\n",
            "Epoch 87/150\n",
            "1500/1500 [==============================] - 18s 12ms/step - loss: 9.2740e-04 - accuracy: 0.9695 - val_loss: 0.0022 - val_accuracy: 0.9273\n",
            "Epoch 88/150\n",
            "1500/1500 [==============================] - 18s 12ms/step - loss: 9.2026e-04 - accuracy: 0.9692 - val_loss: 0.0023 - val_accuracy: 0.9285\n",
            "Epoch 89/150\n",
            "1500/1500 [==============================] - 18s 12ms/step - loss: 8.9392e-04 - accuracy: 0.9696 - val_loss: 0.0021 - val_accuracy: 0.9325\n",
            "Epoch 90/150\n",
            "1500/1500 [==============================] - 18s 12ms/step - loss: 8.8552e-04 - accuracy: 0.9714 - val_loss: 0.0023 - val_accuracy: 0.9333\n",
            "Epoch 91/150\n",
            "1500/1500 [==============================] - 18s 12ms/step - loss: 8.7171e-04 - accuracy: 0.9710 - val_loss: 0.0021 - val_accuracy: 0.9325\n",
            "Epoch 92/150\n",
            "1500/1500 [==============================] - 18s 12ms/step - loss: 8.8571e-04 - accuracy: 0.9701 - val_loss: 0.0022 - val_accuracy: 0.9310\n",
            "Epoch 93/150\n",
            "1500/1500 [==============================] - 18s 12ms/step - loss: 8.4804e-04 - accuracy: 0.9723 - val_loss: 0.0024 - val_accuracy: 0.9273\n",
            "Epoch 94/150\n",
            "1500/1500 [==============================] - 18s 12ms/step - loss: 8.2661e-04 - accuracy: 0.9733 - val_loss: 0.0022 - val_accuracy: 0.9297\n",
            "Epoch 95/150\n",
            "1500/1500 [==============================] - 18s 12ms/step - loss: 8.2418e-04 - accuracy: 0.9731 - val_loss: 0.0023 - val_accuracy: 0.9290\n",
            "Epoch 96/150\n",
            "1500/1500 [==============================] - 18s 12ms/step - loss: 7.9737e-04 - accuracy: 0.9744 - val_loss: 0.0022 - val_accuracy: 0.9360\n",
            "Epoch 97/150\n",
            "1500/1500 [==============================] - 18s 12ms/step - loss: 7.9600e-04 - accuracy: 0.9735 - val_loss: 0.0023 - val_accuracy: 0.9320\n",
            "Epoch 98/150\n",
            "1500/1500 [==============================] - 18s 12ms/step - loss: 7.9097e-04 - accuracy: 0.9745 - val_loss: 0.0023 - val_accuracy: 0.9302\n",
            "Epoch 99/150\n",
            "1500/1500 [==============================] - 18s 12ms/step - loss: 7.8211e-04 - accuracy: 0.9746 - val_loss: 0.0024 - val_accuracy: 0.9328\n",
            "Epoch 100/150\n",
            "1500/1500 [==============================] - 18s 12ms/step - loss: 7.6951e-04 - accuracy: 0.9758 - val_loss: 0.0024 - val_accuracy: 0.9318\n",
            "Epoch 101/150\n",
            "1500/1500 [==============================] - 18s 12ms/step - loss: 7.5798e-04 - accuracy: 0.9759 - val_loss: 0.0023 - val_accuracy: 0.9327\n",
            "Epoch 102/150\n",
            "1500/1500 [==============================] - 18s 12ms/step - loss: 7.5236e-04 - accuracy: 0.9754 - val_loss: 0.0023 - val_accuracy: 0.9323\n",
            "Epoch 103/150\n",
            "1500/1500 [==============================] - 18s 12ms/step - loss: 7.2229e-04 - accuracy: 0.9770 - val_loss: 0.0023 - val_accuracy: 0.9317\n",
            "Epoch 104/150\n",
            "1500/1500 [==============================] - 18s 12ms/step - loss: 7.1882e-04 - accuracy: 0.9762 - val_loss: 0.0024 - val_accuracy: 0.9295\n",
            "Epoch 105/150\n",
            "1500/1500 [==============================] - 18s 12ms/step - loss: 7.2051e-04 - accuracy: 0.9770 - val_loss: 0.0022 - val_accuracy: 0.9327\n",
            "Epoch 106/150\n",
            "1500/1500 [==============================] - 18s 12ms/step - loss: 6.8305e-04 - accuracy: 0.9780 - val_loss: 0.0023 - val_accuracy: 0.9323\n",
            "Epoch 107/150\n",
            "1500/1500 [==============================] - 18s 12ms/step - loss: 7.0128e-04 - accuracy: 0.9776 - val_loss: 0.0026 - val_accuracy: 0.9228\n",
            "Epoch 108/150\n",
            "1500/1500 [==============================] - 18s 12ms/step - loss: 6.4779e-04 - accuracy: 0.9792 - val_loss: 0.0022 - val_accuracy: 0.9357\n",
            "Epoch 109/150\n",
            "1500/1500 [==============================] - 18s 12ms/step - loss: 6.9908e-04 - accuracy: 0.9778 - val_loss: 0.0023 - val_accuracy: 0.9298\n",
            "Epoch 110/150\n",
            "1500/1500 [==============================] - 18s 12ms/step - loss: 6.5536e-04 - accuracy: 0.9792 - val_loss: 0.0024 - val_accuracy: 0.9297\n",
            "Epoch 111/150\n",
            "1500/1500 [==============================] - 18s 12ms/step - loss: 6.5817e-04 - accuracy: 0.9786 - val_loss: 0.0023 - val_accuracy: 0.9360\n",
            "Epoch 112/150\n",
            "1500/1500 [==============================] - 18s 12ms/step - loss: 7.0078e-04 - accuracy: 0.9780 - val_loss: 0.0023 - val_accuracy: 0.9332\n",
            "Epoch 113/150\n",
            "1500/1500 [==============================] - 18s 12ms/step - loss: 6.4530e-04 - accuracy: 0.9789 - val_loss: 0.0023 - val_accuracy: 0.9337\n",
            "Epoch 114/150\n",
            "1500/1500 [==============================] - 18s 12ms/step - loss: 6.6974e-04 - accuracy: 0.9794 - val_loss: 0.0024 - val_accuracy: 0.9333\n",
            "Epoch 115/150\n",
            "1500/1500 [==============================] - 18s 12ms/step - loss: 6.4011e-04 - accuracy: 0.9793 - val_loss: 0.0023 - val_accuracy: 0.9342\n",
            "Epoch 116/150\n",
            "1500/1500 [==============================] - 18s 12ms/step - loss: 6.2480e-04 - accuracy: 0.9804 - val_loss: 0.0023 - val_accuracy: 0.9348\n",
            "Epoch 117/150\n",
            "1500/1500 [==============================] - 18s 12ms/step - loss: 6.4410e-04 - accuracy: 0.9785 - val_loss: 0.0025 - val_accuracy: 0.9297\n",
            "Epoch 118/150\n",
            "1500/1500 [==============================] - 18s 12ms/step - loss: 6.1350e-04 - accuracy: 0.9808 - val_loss: 0.0023 - val_accuracy: 0.9323\n",
            "Epoch 119/150\n",
            "1500/1500 [==============================] - 18s 12ms/step - loss: 6.1279e-04 - accuracy: 0.9814 - val_loss: 0.0025 - val_accuracy: 0.9293\n",
            "Epoch 120/150\n",
            "1500/1500 [==============================] - 18s 12ms/step - loss: 6.2015e-04 - accuracy: 0.9809 - val_loss: 0.0024 - val_accuracy: 0.9333\n",
            "Epoch 121/150\n",
            "1500/1500 [==============================] - 18s 12ms/step - loss: 6.3274e-04 - accuracy: 0.9798 - val_loss: 0.0022 - val_accuracy: 0.9345\n",
            "Epoch 122/150\n",
            "1500/1500 [==============================] - 18s 12ms/step - loss: 5.9746e-04 - accuracy: 0.9800 - val_loss: 0.0022 - val_accuracy: 0.9325\n",
            "Epoch 123/150\n",
            "1500/1500 [==============================] - 18s 12ms/step - loss: 5.3889e-04 - accuracy: 0.9828 - val_loss: 0.0024 - val_accuracy: 0.9332\n",
            "Epoch 124/150\n",
            "1500/1500 [==============================] - 18s 12ms/step - loss: 5.4984e-04 - accuracy: 0.9831 - val_loss: 0.0025 - val_accuracy: 0.9313\n",
            "Epoch 125/150\n",
            "1500/1500 [==============================] - 18s 12ms/step - loss: 6.4420e-04 - accuracy: 0.9789 - val_loss: 0.0023 - val_accuracy: 0.9345\n",
            "Epoch 126/150\n",
            "1500/1500 [==============================] - 18s 12ms/step - loss: 5.7558e-04 - accuracy: 0.9817 - val_loss: 0.0024 - val_accuracy: 0.9312\n",
            "Epoch 127/150\n",
            "1500/1500 [==============================] - 18s 12ms/step - loss: 5.4229e-04 - accuracy: 0.9833 - val_loss: 0.0023 - val_accuracy: 0.9342\n",
            "Epoch 128/150\n",
            "1500/1500 [==============================] - 18s 12ms/step - loss: 5.6265e-04 - accuracy: 0.9825 - val_loss: 0.0023 - val_accuracy: 0.9373\n",
            "Epoch 129/150\n",
            "1500/1500 [==============================] - 18s 12ms/step - loss: 5.3380e-04 - accuracy: 0.9824 - val_loss: 0.0024 - val_accuracy: 0.9347\n",
            "Epoch 130/150\n",
            "1500/1500 [==============================] - 18s 12ms/step - loss: 5.0587e-04 - accuracy: 0.9841 - val_loss: 0.0023 - val_accuracy: 0.9358\n",
            "Epoch 131/150\n",
            "1500/1500 [==============================] - 18s 12ms/step - loss: 5.6461e-04 - accuracy: 0.9820 - val_loss: 0.0024 - val_accuracy: 0.9340\n",
            "Epoch 132/150\n",
            "1500/1500 [==============================] - 18s 12ms/step - loss: 5.2742e-04 - accuracy: 0.9834 - val_loss: 0.0024 - val_accuracy: 0.9355\n",
            "Epoch 133/150\n",
            "1500/1500 [==============================] - 18s 12ms/step - loss: 5.5315e-04 - accuracy: 0.9826 - val_loss: 0.0024 - val_accuracy: 0.9365\n",
            "Epoch 134/150\n",
            "1500/1500 [==============================] - 18s 12ms/step - loss: 5.1597e-04 - accuracy: 0.9836 - val_loss: 0.0024 - val_accuracy: 0.9348\n",
            "Epoch 135/150\n",
            "1500/1500 [==============================] - 18s 12ms/step - loss: 5.3053e-04 - accuracy: 0.9837 - val_loss: 0.0024 - val_accuracy: 0.9347\n",
            "Epoch 136/150\n",
            "1500/1500 [==============================] - 18s 12ms/step - loss: 5.2470e-04 - accuracy: 0.9843 - val_loss: 0.0025 - val_accuracy: 0.9300\n",
            "Epoch 137/150\n",
            "1500/1500 [==============================] - 18s 12ms/step - loss: 4.9694e-04 - accuracy: 0.9847 - val_loss: 0.0025 - val_accuracy: 0.9327\n",
            "Epoch 138/150\n",
            "1500/1500 [==============================] - 18s 12ms/step - loss: 5.2228e-04 - accuracy: 0.9838 - val_loss: 0.0023 - val_accuracy: 0.9320\n",
            "Epoch 139/150\n",
            "1500/1500 [==============================] - 18s 12ms/step - loss: 5.2398e-04 - accuracy: 0.9831 - val_loss: 0.0025 - val_accuracy: 0.9332\n",
            "Epoch 140/150\n",
            "1500/1500 [==============================] - 18s 12ms/step - loss: 5.0265e-04 - accuracy: 0.9846 - val_loss: 0.0025 - val_accuracy: 0.9327\n",
            "Epoch 141/150\n",
            "1500/1500 [==============================] - 18s 12ms/step - loss: 5.1070e-04 - accuracy: 0.9838 - val_loss: 0.0024 - val_accuracy: 0.9362\n",
            "Epoch 142/150\n",
            "1500/1500 [==============================] - 18s 12ms/step - loss: 4.7121e-04 - accuracy: 0.9848 - val_loss: 0.0024 - val_accuracy: 0.9358\n",
            "Epoch 143/150\n",
            "1500/1500 [==============================] - 18s 12ms/step - loss: 4.9374e-04 - accuracy: 0.9846 - val_loss: 0.0025 - val_accuracy: 0.9313\n",
            "Epoch 144/150\n",
            "1500/1500 [==============================] - 18s 12ms/step - loss: 4.2782e-04 - accuracy: 0.9872 - val_loss: 0.0024 - val_accuracy: 0.9355\n",
            "Epoch 145/150\n",
            "1500/1500 [==============================] - 18s 12ms/step - loss: 4.9214e-04 - accuracy: 0.9849 - val_loss: 0.0025 - val_accuracy: 0.9340\n",
            "Epoch 146/150\n",
            "1500/1500 [==============================] - 18s 12ms/step - loss: 4.5986e-04 - accuracy: 0.9857 - val_loss: 0.0025 - val_accuracy: 0.9347\n",
            "Epoch 147/150\n",
            "1500/1500 [==============================] - 18s 12ms/step - loss: 4.3578e-04 - accuracy: 0.9866 - val_loss: 0.0025 - val_accuracy: 0.9352\n",
            "Epoch 148/150\n",
            "1500/1500 [==============================] - 18s 12ms/step - loss: 4.6827e-04 - accuracy: 0.9867 - val_loss: 0.0025 - val_accuracy: 0.9353\n",
            "Epoch 149/150\n",
            "1500/1500 [==============================] - 18s 12ms/step - loss: 4.5693e-04 - accuracy: 0.9845 - val_loss: 0.0024 - val_accuracy: 0.9370\n",
            "Epoch 150/150\n",
            "1500/1500 [==============================] - 18s 12ms/step - loss: 4.4786e-04 - accuracy: 0.9861 - val_loss: 0.0025 - val_accuracy: 0.9323\n"
          ]
        }
      ]
    },
    {
      "cell_type": "code",
      "metadata": {
        "id": "EiFHfUkNRrSg",
        "colab": {
          "base_uri": "https://localhost:8080/",
          "height": 295
        },
        "outputId": "c77a50b4-2aae-4fb4-f5c4-d4ea9b60c32c"
      },
      "source": [
        "plt.close('all')\n",
        "plt.plot(H1.history['accuracy'])\n",
        "plt.plot(H1.history['val_accuracy'])\n",
        "plt.title('model accuracy')\n",
        "plt.xlabel('epoch')\n",
        "plt.ylabel('accuracy')\n",
        "plt.legend(['training','validation'], loc='lower right')\n",
        "plt.savefig('accuracy_step1') \n",
        "plt.show()\n"
      ],
      "execution_count": 13,
      "outputs": [
        {
          "output_type": "display_data",
          "data": {
            "image/png": "[encoded data removed]",
            "text/plain": [
              "<Figure size 432x288 with 1 Axes>"
            ]
          },
          "metadata": {
            "needs_background": "light"
          }
        }
      ]
    },
    {
      "cell_type": "code",
      "metadata": {
        "colab": {
          "base_uri": "https://localhost:8080/",
          "height": 295
        },
        "id": "E2N17_rXR2Ml",
        "outputId": "35f9cb85-7368-4b81-a43d-d8a59fc2c139"
      },
      "source": [
        "plt.close('all')\n",
        "plt.plot(H1.history['loss'])\n",
        "plt.plot(H1.history['val_loss'])\n",
        "plt.title('model loss')\n",
        "plt.xlabel('epoch')\n",
        "plt.ylabel('loss')\n",
        "plt.legend(['training','validation'], loc='upper right')\n",
        "plt.savefig('loss_step1')\n",
        "plt.show()"
      ],
      "execution_count": 14,
      "outputs": [
        {
          "output_type": "display_data",
          "data": {
            "image/png": "[encoded data removed]",
            "text/plain": [
              "<Figure size 432x288 with 1 Axes>"
            ]
          },
          "metadata": {
            "needs_background": "light"
          }
        }
      ]
    },
    {
      "cell_type": "code",
      "metadata": {
        "colab": {
          "base_uri": "https://localhost:8080/"
        },
        "id": "BV4WK2H_LZP_",
        "outputId": "b7bd8aa5-b8a5-4903-8fe6-441cb676b46b"
      },
      "source": [
        "model_1.save(\"step1\")"
      ],
      "execution_count": 15,
      "outputs": [
        {
          "output_type": "stream",
          "name": "stdout",
          "text": [
            "INFO:tensorflow:Assets written to: step1/assets\n"
          ]
        }
      ]
    },
    {
      "cell_type": "code",
      "metadata": {
        "id": "0w5POAcjRGm3"
      },
      "source": [
        "with open(\"images_test.pkl\", 'rb') as f:\n",
        "    test_data = pickle.load(f)\n",
        "#test_data = process_img(test_data)\n",
        "test_data = test_data.reshape(-1,56,56,1)"
      ],
      "execution_count": 16,
      "outputs": []
    },
    {
      "cell_type": "code",
      "metadata": {
        "id": "gVxjj2MIS6Ai"
      },
      "source": [
        "predictions1 = model_1.predict(test_data)"
      ],
      "execution_count": 18,
      "outputs": []
    },
    {
      "cell_type": "code",
      "metadata": {
        "id": "PFnKT2nzS6Fx"
      },
      "source": [
        "import pandas as pd\n",
        "prediction = []\n",
        "\n",
        "def decode(x):\n",
        "    where1s = x.argmax()\n",
        "    # print(where1s[0][0])\n",
        "    index1 = where1s // 26\n",
        "    index2 = where1s % 26  + 10\n",
        "    result = np.zeros(36)\n",
        "    result[index1] = 1\n",
        "    result[index2] = 1\n",
        "    return result,index1,index2\n",
        "for data in predictions1:\n",
        "    decoded_pred,index1,index2 = decode(data)\n",
        "    prediction.append(''.join([\"0\" if i != index1 and i != index2 else \"1\" for i in range(36)]))\n"
      ],
      "execution_count": 19,
      "outputs": []
    },
    {
      "cell_type": "code",
      "metadata": {
        "id": "z2Mi9mEyTA4I"
      },
      "source": [
        "result = {\"# Id\": np.arange(15000), 'Category': prediction}\n",
        "df = pd.DataFrame(data=result, columns=['# Id', 'Category'])\n",
        "df.to_csv('results_1126_step1_1.csv', header=True, index=False)"
      ],
      "execution_count": 20,
      "outputs": []
    },
    {
      "cell_type": "code",
      "metadata": {
        "id": "W6S_zp3naGLb",
        "colab": {
          "base_uri": "https://localhost:8080/"
        },
        "outputId": "7442eb54-cf1d-4ea9-83e2-96d3fc81dd8d"
      },
      "source": [
        "# '''\n",
        "# '''\n",
        "from tensorflow import keras\n",
        "pre_model = keras.models.load_model(\"step1\")\n",
        "# '''\n",
        "with open(\"images_ul.pkl\", 'rb') as f:\n",
        "    unlabeled_data = pickle.load(f)\n",
        "\n",
        "#unlabeled_data_1 = process_img(unlabeled_data)\n",
        "unlabeled_data_1 = unlabeled_data.reshape(-1,56,56,1)\n",
        "\n",
        "\n",
        "unlabeled_labels = pre_model.predict(unlabeled_data_1)\n",
        "unlabeled_labels = (unlabeled_labels == unlabeled_labels.max(axis=1, keepdims=1)).astype(int)\n",
        "print(unlabeled_labels[0])\n",
        "# '''"
      ],
      "execution_count": 21,
      "outputs": [
        {
          "output_type": "stream",
          "name": "stdout",
          "text": [
            "[0 0 0 0 0 0 0 0 0 0 0 0 0 0 0 0 0 0 0 0 0 0 0 0 0 0 0 0 0 0 0 0 0 0 0 0 0\n",
            " 0 0 0 0 0 0 0 0 0 0 0 0 0 0 0 0 0 0 0 0 0 0 0 0 0 0 0 0 0 0 0 0 0 0 0 0 0\n",
            " 0 0 0 0 0 0 0 0 0 0 0 0 0 0 0 0 0 0 0 0 0 0 0 0 0 0 0 0 0 0 0 0 0 0 0 0 0\n",
            " 0 0 0 0 0 0 0 0 0 0 0 0 0 0 0 0 0 0 0 0 0 0 0 0 0 0 0 0 0 0 0 0 0 0 0 0 0\n",
            " 0 0 0 0 0 0 0 0 0 0 0 0 0 0 0 0 0 0 0 0 0 0 0 0 0 0 1 0 0 0 0 0 0 0 0 0 0\n",
            " 0 0 0 0 0 0 0 0 0 0 0 0 0 0 0 0 0 0 0 0 0 0 0 0 0 0 0 0 0 0 0 0 0 0 0 0 0\n",
            " 0 0 0 0 0 0 0 0 0 0 0 0 0 0 0 0 0 0 0 0 0 0 0 0 0 0 0 0 0 0 0 0 0 0 0 0 0\n",
            " 0]\n"
          ]
        }
      ]
    },
    {
      "cell_type": "code",
      "metadata": {
        "id": "pI1dETXKtej1",
        "colab": {
          "base_uri": "https://localhost:8080/"
        },
        "outputId": "d3cec583-d244-4c5c-94dc-7df7d0690d48"
      },
      "source": [
        "\n",
        "# training_data = np.concatenate((training_data[:24000], unlabeled_data), axis=0)\n",
        "validation_data = np.copy(training_data[24000:30000])\n",
        "print(validation_data.shape)\n",
        "\n",
        "validation_label = np.copy(training_label[24000:30000])\n",
        "training_data_step2 = np.concatenate((training_data[:24000], unlabeled_data), axis=0)\n",
        "training_label_step2 = np.concatenate((training_label[:24000], unlabeled_labels), axis=0)\n",
        "# training_data = np.copy(training_data[:24000])\n",
        "# training_label = np.copy(training_label[:24000])\n",
        "#training_data = process_img(training_data)\n",
        "\n",
        "\n",
        "#validation_data = process_img(validation_data)\n",
        "#training_data=training_data.reshape(-1,56,56,1)\n",
        "training_data_step2 = training_data_step2.reshape(-1,56,56,1)\n",
        "validation_data = validation_data.reshape(-1,56,56,1)"
      ],
      "execution_count": 22,
      "outputs": [
        {
          "output_type": "stream",
          "name": "stdout",
          "text": [
            "(6000, 56, 56)\n"
          ]
        }
      ]
    },
    {
      "cell_type": "code",
      "metadata": {
        "colab": {
          "base_uri": "https://localhost:8080/"
        },
        "id": "NppYTZKH5R4j",
        "outputId": "1357b9de-d307-4090-bbff-3fc7c6fb6e0c"
      },
      "source": [
        "print(training_data_step2.shape)\n",
        "print(validation_data.shape)"
      ],
      "execution_count": 23,
      "outputs": [
        {
          "output_type": "stream",
          "name": "stdout",
          "text": [
            "(54000, 56, 56, 1)\n",
            "(6000, 56, 56, 1)\n"
          ]
        }
      ]
    },
    {
      "cell_type": "code",
      "metadata": {
        "id": "re8VZKsLvO5I"
      },
      "source": [
        "#training_set = tf.data.Dataset.from_tensor_slices((training_data, training_label))\n",
        "#print(training_data[1])\n",
        "#print(training_label[1])\n",
        "validation_set = tf.data.Dataset.from_tensor_slices((validation_data, validation_label))\n",
        "#print(validation_label[1])"
      ],
      "execution_count": null,
      "outputs": []
    },
    {
      "cell_type": "code",
      "metadata": {
        "id": "pZQcYa_SR0WY"
      },
      "source": [
        "IMG_SIZE = 56\n",
        "\n",
        "resize_and_rescale = tf.keras.Sequential([\n",
        "  Resizing(IMG_SIZE, IMG_SIZE),\n",
        "  Rescaling(1./ training_data.max())\n",
        "])"
      ],
      "execution_count": null,
      "outputs": []
    },
    {
      "cell_type": "code",
      "metadata": {
        "id": "ZRGYGDnzR03P"
      },
      "source": [
        "data_augmentation = tf.keras.Sequential([\n",
        "  RandomRotation(0.2),\n",
        "])"
      ],
      "execution_count": null,
      "outputs": []
    },
    {
      "cell_type": "code",
      "metadata": {
        "id": "UkjEcjXSC7y1",
        "colab": {
          "base_uri": "https://localhost:8080/",
          "height": 35
        },
        "outputId": "cd72fc71-d273-4f88-8d8e-6cf8eda3ab81"
      },
      "source": [
        "\"\"\"\n",
        "from google.colab import drive\n",
        "drive.mount('/content/drive')\n",
        "\"\"\""
      ],
      "execution_count": null,
      "outputs": [
        {
          "output_type": "execute_result",
          "data": {
            "application/vnd.google.colaboratory.intrinsic+json": {
              "type": "string"
            },
            "text/plain": [
              "\"\\nfrom google.colab import drive\\ndrive.mount('/content/drive')\\n\""
            ]
          },
          "metadata": {},
          "execution_count": 15
        }
      ]
    },
    {
      "cell_type": "code",
      "metadata": {
        "id": "MrNhJvOivDo9"
      },
      "source": [
        "EPOCHS = 100\n",
        "LR = 5e-4\n",
        "BATCH_SIZE = 16\n",
        "IMAGE_DIMS = (56, 56, 1)\n"
      ],
      "execution_count": 24,
      "outputs": []
    },
    {
      "cell_type": "code",
      "metadata": {
        "id": "SMjZekO_54eJ",
        "colab": {
          "base_uri": "https://localhost:8080/"
        },
        "outputId": "adc89d3c-5a3a-4ce4-d7d8-ef61dbaab3de"
      },
      "source": [
        "model_2=SmallerVGGNet.build(width=56,height=56,depth=1,classes=260)\n",
        "opt = Adam(lr=LR, decay=LR /(2* EPOCHS))\n",
        "model_2.compile(loss=\"binary_crossentropy\", optimizer=opt,metrics=[\"accuracy\"])"
      ],
      "execution_count": 25,
      "outputs": [
        {
          "output_type": "stream",
          "name": "stderr",
          "text": [
            "/usr/local/lib/python3.7/dist-packages/keras/optimizer_v2/optimizer_v2.py:356: UserWarning: The `lr` argument is deprecated, use `learning_rate` instead.\n",
            "  \"The `lr` argument is deprecated, use `learning_rate` instead.\")\n"
          ]
        }
      ]
    },
    {
      "cell_type": "code",
      "metadata": {
        "id": "_OiWnXLDAO_d",
        "colab": {
          "base_uri": "https://localhost:8080/",
          "height": 1000
        },
        "outputId": "965af8bc-0d2c-41c5-94bc-bd4b6f2c5056"
      },
      "source": [
        "#training_data = training_data.reshape(-1, 56, 56, 1)\n",
        "#validation_data = validation_data.reshape(-1, 56, 56, 1)\n",
        "\n",
        "# H = model.fit(x=training_data,y=training_label,epochs=EPOCHS,validation_split=0.2,batch_size=BATCH_SIZE)\n",
        "H2 = model_2.fit(x=training_data_step2, y=training_label_step2,epochs=EPOCHS,validation_data=(validation_data,validation_label),batch_size=BATCH_SIZE)\n",
        "'''\n",
        "H = model.fit(datagen.flow(training_data, training_label, batch_size=BATCH_SIZE,\n",
        "         subset='training'),\n",
        "         validation_data=datagen.flow(training_data, training_label,\n",
        "         batch_size=BATCH_SIZE, subset='validation'), epochs=EPOCHS)\n",
        "'''"
      ],
      "execution_count": 27,
      "outputs": [
        {
          "output_type": "stream",
          "name": "stdout",
          "text": [
            "Epoch 1/100\n",
            "3375/3375 [==============================] - 40s 11ms/step - loss: 0.0709 - accuracy: 0.0169 - val_loss: 0.0272 - val_accuracy: 0.0153\n",
            "Epoch 2/100\n",
            "3375/3375 [==============================] - 38s 11ms/step - loss: 0.0218 - accuracy: 0.0315 - val_loss: 0.0222 - val_accuracy: 0.0330\n",
            "Epoch 3/100\n",
            "3375/3375 [==============================] - 39s 11ms/step - loss: 0.0197 - accuracy: 0.0499 - val_loss: 0.0200 - val_accuracy: 0.0482\n",
            "Epoch 4/100\n",
            "3375/3375 [==============================] - 38s 11ms/step - loss: 0.0177 - accuracy: 0.0822 - val_loss: 0.0150 - val_accuracy: 0.1485\n",
            "Epoch 5/100\n",
            "3375/3375 [==============================] - 39s 11ms/step - loss: 0.0158 - accuracy: 0.1506 - val_loss: 0.0125 - val_accuracy: 0.2818\n",
            "Epoch 6/100\n",
            "3375/3375 [==============================] - 38s 11ms/step - loss: 0.0133 - accuracy: 0.2697 - val_loss: 0.0093 - val_accuracy: 0.4647\n",
            "Epoch 7/100\n",
            "3375/3375 [==============================] - 38s 11ms/step - loss: 0.0111 - accuracy: 0.4017 - val_loss: 0.0076 - val_accuracy: 0.5988\n",
            "Epoch 8/100\n",
            "3375/3375 [==============================] - 38s 11ms/step - loss: 0.0093 - accuracy: 0.5211 - val_loss: 0.0058 - val_accuracy: 0.7142\n",
            "Epoch 9/100\n",
            "3375/3375 [==============================] - 39s 11ms/step - loss: 0.0079 - accuracy: 0.6189 - val_loss: 0.0045 - val_accuracy: 0.7980\n",
            "Epoch 10/100\n",
            "3375/3375 [==============================] - 38s 11ms/step - loss: 0.0068 - accuracy: 0.6812 - val_loss: 0.0037 - val_accuracy: 0.8413\n",
            "Epoch 11/100\n",
            "3375/3375 [==============================] - 39s 11ms/step - loss: 0.0061 - accuracy: 0.7273 - val_loss: 0.0035 - val_accuracy: 0.8525\n",
            "Epoch 12/100\n",
            "3375/3375 [==============================] - 38s 11ms/step - loss: 0.0054 - accuracy: 0.7629 - val_loss: 0.0035 - val_accuracy: 0.8533\n",
            "Epoch 13/100\n",
            "3375/3375 [==============================] - 39s 11ms/step - loss: 0.0049 - accuracy: 0.7898 - val_loss: 0.0026 - val_accuracy: 0.8865\n",
            "Epoch 14/100\n",
            "3375/3375 [==============================] - 38s 11ms/step - loss: 0.0045 - accuracy: 0.8149 - val_loss: 0.0024 - val_accuracy: 0.9005\n",
            "Epoch 15/100\n",
            "3375/3375 [==============================] - 38s 11ms/step - loss: 0.0041 - accuracy: 0.8339 - val_loss: 0.0025 - val_accuracy: 0.8892\n",
            "Epoch 16/100\n",
            "3375/3375 [==============================] - 38s 11ms/step - loss: 0.0038 - accuracy: 0.8449 - val_loss: 0.0021 - val_accuracy: 0.9103\n",
            "Epoch 17/100\n",
            "3375/3375 [==============================] - 38s 11ms/step - loss: 0.0035 - accuracy: 0.8581 - val_loss: 0.0020 - val_accuracy: 0.9225\n",
            "Epoch 18/100\n",
            "3375/3375 [==============================] - 38s 11ms/step - loss: 0.0033 - accuracy: 0.8679 - val_loss: 0.0020 - val_accuracy: 0.9195\n",
            "Epoch 19/100\n",
            "3375/3375 [==============================] - 38s 11ms/step - loss: 0.0031 - accuracy: 0.8764 - val_loss: 0.0018 - val_accuracy: 0.9242\n",
            "Epoch 20/100\n",
            "3375/3375 [==============================] - 38s 11ms/step - loss: 0.0030 - accuracy: 0.8836 - val_loss: 0.0017 - val_accuracy: 0.9315\n",
            "Epoch 21/100\n",
            "3375/3375 [==============================] - 38s 11ms/step - loss: 0.0028 - accuracy: 0.8921 - val_loss: 0.0017 - val_accuracy: 0.9288\n",
            "Epoch 22/100\n",
            "3375/3375 [==============================] - 38s 11ms/step - loss: 0.0027 - accuracy: 0.8950 - val_loss: 0.0017 - val_accuracy: 0.9332\n",
            "Epoch 23/100\n",
            "3375/3375 [==============================] - 38s 11ms/step - loss: 0.0026 - accuracy: 0.9006 - val_loss: 0.0017 - val_accuracy: 0.9325\n",
            "Epoch 24/100\n",
            "3375/3375 [==============================] - 38s 11ms/step - loss: 0.0024 - accuracy: 0.9073 - val_loss: 0.0017 - val_accuracy: 0.9348\n",
            "Epoch 25/100\n",
            "3375/3375 [==============================] - 38s 11ms/step - loss: 0.0023 - accuracy: 0.9117 - val_loss: 0.0017 - val_accuracy: 0.9328\n",
            "Epoch 26/100\n",
            "3375/3375 [==============================] - 38s 11ms/step - loss: 0.0022 - accuracy: 0.9156 - val_loss: 0.0016 - val_accuracy: 0.9387\n",
            "Epoch 27/100\n",
            "3375/3375 [==============================] - 38s 11ms/step - loss: 0.0021 - accuracy: 0.9180 - val_loss: 0.0017 - val_accuracy: 0.9307\n",
            "Epoch 28/100\n",
            "3375/3375 [==============================] - 38s 11ms/step - loss: 0.0020 - accuracy: 0.9219 - val_loss: 0.0017 - val_accuracy: 0.9358\n",
            "Epoch 29/100\n",
            "3375/3375 [==============================] - 38s 11ms/step - loss: 0.0020 - accuracy: 0.9245 - val_loss: 0.0016 - val_accuracy: 0.9375\n",
            "Epoch 30/100\n",
            "3375/3375 [==============================] - 38s 11ms/step - loss: 0.0019 - accuracy: 0.9252 - val_loss: 0.0015 - val_accuracy: 0.9418\n",
            "Epoch 31/100\n",
            "3375/3375 [==============================] - 38s 11ms/step - loss: 0.0018 - accuracy: 0.9303 - val_loss: 0.0017 - val_accuracy: 0.9403\n",
            "Epoch 32/100\n",
            "3375/3375 [==============================] - 38s 11ms/step - loss: 0.0018 - accuracy: 0.9324 - val_loss: 0.0016 - val_accuracy: 0.9377\n",
            "Epoch 33/100\n",
            "3375/3375 [==============================] - 38s 11ms/step - loss: 0.0017 - accuracy: 0.9341 - val_loss: 0.0017 - val_accuracy: 0.9372\n",
            "Epoch 34/100\n",
            "3375/3375 [==============================] - 38s 11ms/step - loss: 0.0017 - accuracy: 0.9373 - val_loss: 0.0017 - val_accuracy: 0.9375\n",
            "Epoch 35/100\n",
            "3375/3375 [==============================] - 38s 11ms/step - loss: 0.0016 - accuracy: 0.9404 - val_loss: 0.0016 - val_accuracy: 0.9433\n",
            "Epoch 36/100\n",
            "3375/3375 [==============================] - 38s 11ms/step - loss: 0.0016 - accuracy: 0.9409 - val_loss: 0.0017 - val_accuracy: 0.9430\n",
            "Epoch 37/100\n",
            "3375/3375 [==============================] - 38s 11ms/step - loss: 0.0015 - accuracy: 0.9425 - val_loss: 0.0016 - val_accuracy: 0.9408\n",
            "Epoch 38/100\n",
            "3375/3375 [==============================] - 39s 11ms/step - loss: 0.0015 - accuracy: 0.9442 - val_loss: 0.0018 - val_accuracy: 0.9390\n",
            "Epoch 39/100\n",
            "3375/3375 [==============================] - 38s 11ms/step - loss: 0.0014 - accuracy: 0.9483 - val_loss: 0.0018 - val_accuracy: 0.9378\n",
            "Epoch 40/100\n",
            "3375/3375 [==============================] - 38s 11ms/step - loss: 0.0014 - accuracy: 0.9500 - val_loss: 0.0016 - val_accuracy: 0.9433\n",
            "Epoch 41/100\n",
            "3375/3375 [==============================] - 39s 11ms/step - loss: 0.0013 - accuracy: 0.9506 - val_loss: 0.0017 - val_accuracy: 0.9402\n",
            "Epoch 42/100\n",
            "3375/3375 [==============================] - 38s 11ms/step - loss: 0.0013 - accuracy: 0.9521 - val_loss: 0.0017 - val_accuracy: 0.9433\n",
            "Epoch 43/100\n",
            "3375/3375 [==============================] - 39s 11ms/step - loss: 0.0013 - accuracy: 0.9533 - val_loss: 0.0017 - val_accuracy: 0.9437\n",
            "Epoch 44/100\n",
            "3375/3375 [==============================] - 38s 11ms/step - loss: 0.0013 - accuracy: 0.9538 - val_loss: 0.0017 - val_accuracy: 0.9415\n",
            "Epoch 45/100\n",
            "3375/3375 [==============================] - 39s 11ms/step - loss: 0.0012 - accuracy: 0.9565 - val_loss: 0.0017 - val_accuracy: 0.9437\n",
            "Epoch 46/100\n",
            "3375/3375 [==============================] - 38s 11ms/step - loss: 0.0012 - accuracy: 0.9569 - val_loss: 0.0017 - val_accuracy: 0.9428\n",
            "Epoch 47/100\n",
            "3375/3375 [==============================] - 39s 11ms/step - loss: 0.0012 - accuracy: 0.9578 - val_loss: 0.0017 - val_accuracy: 0.9440\n",
            "Epoch 48/100\n",
            "3375/3375 [==============================] - 38s 11ms/step - loss: 0.0011 - accuracy: 0.9592 - val_loss: 0.0018 - val_accuracy: 0.9385\n",
            "Epoch 49/100\n",
            "3375/3375 [==============================] - 38s 11ms/step - loss: 0.0011 - accuracy: 0.9607 - val_loss: 0.0017 - val_accuracy: 0.9470\n",
            "Epoch 50/100\n",
            "3375/3375 [==============================] - 38s 11ms/step - loss: 0.0010 - accuracy: 0.9622 - val_loss: 0.0017 - val_accuracy: 0.9435\n",
            "Epoch 51/100\n",
            "3375/3375 [==============================] - 38s 11ms/step - loss: 0.0011 - accuracy: 0.9621 - val_loss: 0.0018 - val_accuracy: 0.9392\n",
            "Epoch 52/100\n",
            "3375/3375 [==============================] - 38s 11ms/step - loss: 0.0010 - accuracy: 0.9634 - val_loss: 0.0018 - val_accuracy: 0.9417\n",
            "Epoch 53/100\n",
            "3375/3375 [==============================] - 38s 11ms/step - loss: 9.8361e-04 - accuracy: 0.9646 - val_loss: 0.0018 - val_accuracy: 0.9445\n",
            "Epoch 54/100\n",
            "3375/3375 [==============================] - 39s 11ms/step - loss: 9.7192e-04 - accuracy: 0.9654 - val_loss: 0.0018 - val_accuracy: 0.9440\n",
            "Epoch 55/100\n",
            "3375/3375 [==============================] - 39s 11ms/step - loss: 9.5738e-04 - accuracy: 0.9660 - val_loss: 0.0019 - val_accuracy: 0.9403\n",
            "Epoch 56/100\n",
            "3375/3375 [==============================] - 38s 11ms/step - loss: 9.2963e-04 - accuracy: 0.9679 - val_loss: 0.0019 - val_accuracy: 0.9415\n",
            "Epoch 57/100\n",
            "3375/3375 [==============================] - 39s 11ms/step - loss: 8.9986e-04 - accuracy: 0.9684 - val_loss: 0.0020 - val_accuracy: 0.9405\n",
            "Epoch 58/100\n",
            "3375/3375 [==============================] - 38s 11ms/step - loss: 9.2770e-04 - accuracy: 0.9667 - val_loss: 0.0018 - val_accuracy: 0.9443\n",
            "Epoch 59/100\n",
            "3375/3375 [==============================] - 39s 11ms/step - loss: 8.7737e-04 - accuracy: 0.9690 - val_loss: 0.0019 - val_accuracy: 0.9437\n",
            "Epoch 60/100\n",
            "3375/3375 [==============================] - 38s 11ms/step - loss: 8.7006e-04 - accuracy: 0.9704 - val_loss: 0.0018 - val_accuracy: 0.9428\n",
            "Epoch 61/100\n",
            "3375/3375 [==============================] - 39s 11ms/step - loss: 8.3498e-04 - accuracy: 0.9704 - val_loss: 0.0019 - val_accuracy: 0.9410\n",
            "Epoch 62/100\n",
            "3375/3375 [==============================] - 39s 11ms/step - loss: 8.4192e-04 - accuracy: 0.9715 - val_loss: 0.0019 - val_accuracy: 0.9452\n",
            "Epoch 63/100\n",
            "3375/3375 [==============================] - 38s 11ms/step - loss: 8.0767e-04 - accuracy: 0.9719 - val_loss: 0.0018 - val_accuracy: 0.9450\n",
            "Epoch 64/100\n",
            "3375/3375 [==============================] - 38s 11ms/step - loss: 7.7520e-04 - accuracy: 0.9728 - val_loss: 0.0019 - val_accuracy: 0.9425\n",
            "Epoch 65/100\n",
            "3375/3375 [==============================] - 39s 11ms/step - loss: 7.7515e-04 - accuracy: 0.9726 - val_loss: 0.0019 - val_accuracy: 0.9437\n",
            "Epoch 66/100\n",
            "3375/3375 [==============================] - 39s 11ms/step - loss: 7.7826e-04 - accuracy: 0.9723 - val_loss: 0.0019 - val_accuracy: 0.9437\n",
            "Epoch 67/100\n",
            "3375/3375 [==============================] - 38s 11ms/step - loss: 7.4596e-04 - accuracy: 0.9742 - val_loss: 0.0019 - val_accuracy: 0.9435\n",
            "Epoch 68/100\n",
            "3375/3375 [==============================] - 38s 11ms/step - loss: 7.5817e-04 - accuracy: 0.9740 - val_loss: 0.0019 - val_accuracy: 0.9440\n",
            "Epoch 69/100\n",
            "3375/3375 [==============================] - 39s 11ms/step - loss: 7.5815e-04 - accuracy: 0.9744 - val_loss: 0.0019 - val_accuracy: 0.9442\n",
            "Epoch 70/100\n",
            "3375/3375 [==============================] - 38s 11ms/step - loss: 7.2917e-04 - accuracy: 0.9749 - val_loss: 0.0019 - val_accuracy: 0.9435\n",
            "Epoch 71/100\n",
            "3375/3375 [==============================] - 38s 11ms/step - loss: 7.2001e-04 - accuracy: 0.9753 - val_loss: 0.0019 - val_accuracy: 0.9428\n",
            "Epoch 72/100\n",
            "3375/3375 [==============================] - 39s 11ms/step - loss: 6.9593e-04 - accuracy: 0.9771 - val_loss: 0.0019 - val_accuracy: 0.9442\n",
            "Epoch 73/100\n",
            "3375/3375 [==============================] - 38s 11ms/step - loss: 6.7975e-04 - accuracy: 0.9764 - val_loss: 0.0020 - val_accuracy: 0.9440\n",
            "Epoch 74/100\n",
            "3375/3375 [==============================] - 38s 11ms/step - loss: 6.9168e-04 - accuracy: 0.9759 - val_loss: 0.0020 - val_accuracy: 0.9405\n",
            "Epoch 75/100\n",
            "3375/3375 [==============================] - 38s 11ms/step - loss: 6.8114e-04 - accuracy: 0.9769 - val_loss: 0.0019 - val_accuracy: 0.9470\n",
            "Epoch 76/100\n",
            "3375/3375 [==============================] - 39s 11ms/step - loss: 6.3648e-04 - accuracy: 0.9786 - val_loss: 0.0020 - val_accuracy: 0.9417\n",
            "Epoch 77/100\n",
            "3375/3375 [==============================] - 39s 11ms/step - loss: 6.5257e-04 - accuracy: 0.9786 - val_loss: 0.0020 - val_accuracy: 0.9430\n",
            "Epoch 78/100\n",
            "3375/3375 [==============================] - 38s 11ms/step - loss: 6.4073e-04 - accuracy: 0.9779 - val_loss: 0.0019 - val_accuracy: 0.9457\n",
            "Epoch 79/100\n",
            "3375/3375 [==============================] - 39s 11ms/step - loss: 6.2001e-04 - accuracy: 0.9786 - val_loss: 0.0020 - val_accuracy: 0.9453\n",
            "Epoch 80/100\n",
            "3375/3375 [==============================] - 39s 11ms/step - loss: 6.1882e-04 - accuracy: 0.9793 - val_loss: 0.0020 - val_accuracy: 0.9448\n",
            "Epoch 81/100\n",
            "3375/3375 [==============================] - 38s 11ms/step - loss: 6.0251e-04 - accuracy: 0.9803 - val_loss: 0.0020 - val_accuracy: 0.9438\n",
            "Epoch 82/100\n",
            "3375/3375 [==============================] - 39s 11ms/step - loss: 5.8397e-04 - accuracy: 0.9804 - val_loss: 0.0020 - val_accuracy: 0.9458\n",
            "Epoch 83/100\n",
            "3375/3375 [==============================] - 38s 11ms/step - loss: 5.9008e-04 - accuracy: 0.9810 - val_loss: 0.0020 - val_accuracy: 0.9448\n",
            "Epoch 84/100\n",
            "3375/3375 [==============================] - 38s 11ms/step - loss: 5.7882e-04 - accuracy: 0.9810 - val_loss: 0.0019 - val_accuracy: 0.9452\n",
            "Epoch 85/100\n",
            "3375/3375 [==============================] - 39s 11ms/step - loss: 6.0434e-04 - accuracy: 0.9798 - val_loss: 0.0021 - val_accuracy: 0.9402\n",
            "Epoch 86/100\n",
            "3375/3375 [==============================] - 39s 11ms/step - loss: 5.5338e-04 - accuracy: 0.9816 - val_loss: 0.0020 - val_accuracy: 0.9452\n",
            "Epoch 87/100\n",
            "3375/3375 [==============================] - 38s 11ms/step - loss: 5.3838e-04 - accuracy: 0.9821 - val_loss: 0.0021 - val_accuracy: 0.9453\n",
            "Epoch 88/100\n",
            "3375/3375 [==============================] - 38s 11ms/step - loss: 5.4931e-04 - accuracy: 0.9817 - val_loss: 0.0020 - val_accuracy: 0.9450\n",
            "Epoch 89/100\n",
            "3375/3375 [==============================] - 38s 11ms/step - loss: 5.5598e-04 - accuracy: 0.9811 - val_loss: 0.0020 - val_accuracy: 0.9460\n",
            "Epoch 90/100\n",
            "3375/3375 [==============================] - 38s 11ms/step - loss: 5.3406e-04 - accuracy: 0.9819 - val_loss: 0.0020 - val_accuracy: 0.9460\n",
            "Epoch 91/100\n",
            "3375/3375 [==============================] - 38s 11ms/step - loss: 5.3000e-04 - accuracy: 0.9822 - val_loss: 0.0021 - val_accuracy: 0.9445\n",
            "Epoch 92/100\n",
            "3375/3375 [==============================] - 39s 11ms/step - loss: 5.0668e-04 - accuracy: 0.9826 - val_loss: 0.0021 - val_accuracy: 0.9465\n",
            "Epoch 93/100\n",
            "3375/3375 [==============================] - 38s 11ms/step - loss: 5.2346e-04 - accuracy: 0.9831 - val_loss: 0.0021 - val_accuracy: 0.9447\n",
            "Epoch 94/100\n",
            "3375/3375 [==============================] - 38s 11ms/step - loss: 5.1306e-04 - accuracy: 0.9837 - val_loss: 0.0021 - val_accuracy: 0.9458\n",
            "Epoch 95/100\n",
            "3375/3375 [==============================] - 39s 11ms/step - loss: 5.2315e-04 - accuracy: 0.9819 - val_loss: 0.0021 - val_accuracy: 0.9438\n",
            "Epoch 96/100\n",
            "3375/3375 [==============================] - 39s 11ms/step - loss: 4.8667e-04 - accuracy: 0.9841 - val_loss: 0.0022 - val_accuracy: 0.9438\n",
            "Epoch 97/100\n",
            "3375/3375 [==============================] - 39s 11ms/step - loss: 4.7716e-04 - accuracy: 0.9847 - val_loss: 0.0022 - val_accuracy: 0.9433\n",
            "Epoch 98/100\n",
            "3375/3375 [==============================] - 38s 11ms/step - loss: 4.6416e-04 - accuracy: 0.9842 - val_loss: 0.0021 - val_accuracy: 0.9458\n",
            "Epoch 99/100\n",
            "3375/3375 [==============================] - 39s 11ms/step - loss: 4.8872e-04 - accuracy: 0.9837 - val_loss: 0.0021 - val_accuracy: 0.9445\n",
            "Epoch 100/100\n",
            "3375/3375 [==============================] - 38s 11ms/step - loss: 4.5935e-04 - accuracy: 0.9852 - val_loss: 0.0021 - val_accuracy: 0.9432\n"
          ]
        },
        {
          "output_type": "execute_result",
          "data": {
            "application/vnd.google.colaboratory.intrinsic+json": {
              "type": "string"
            },
            "text/plain": [
              "\"\\nH = model.fit(datagen.flow(training_data, training_label, batch_size=BATCH_SIZE,\\n         subset='training'),\\n         validation_data=datagen.flow(training_data, training_label,\\n         batch_size=BATCH_SIZE, subset='validation'), epochs=EPOCHS)\\n\""
            ]
          },
          "metadata": {},
          "execution_count": 27
        }
      ]
    },
    {
      "cell_type": "code",
      "metadata": {
        "id": "vKwdcgr5Zj0u"
      },
      "source": [
        "model_2.save(\"step2\")"
      ],
      "execution_count": null,
      "outputs": []
    },
    {
      "cell_type": "code",
      "metadata": {
        "id": "lJfwpXS_R1jF"
      },
      "source": [
        "predictions2 = model_2.predict(test_data)\n"
      ],
      "execution_count": 28,
      "outputs": []
    },
    {
      "cell_type": "code",
      "metadata": {
        "id": "itrV-6FrSMLt"
      },
      "source": [
        "print(predictions2[0])"
      ],
      "execution_count": null,
      "outputs": []
    },
    {
      "cell_type": "code",
      "metadata": {
        "id": "OeZASZQ_pcMN"
      },
      "source": [
        "\n",
        "prediction = []\n",
        "\n",
        "for data in predictions2:\n",
        "    decoded_pred,index1,index2 = decode(data)\n",
        "    prediction.append(''.join([\"0\" if i != index1 and i != index2 else \"1\" for i in range(36)]))\n"
      ],
      "execution_count": 30,
      "outputs": []
    },
    {
      "cell_type": "code",
      "metadata": {
        "id": "LHq1s5-Oq9K6"
      },
      "source": [
        "result = {\"# Id\": np.arange(15000), 'Category': prediction}\n",
        "df = pd.DataFrame(data=result, columns=['# Id', 'Category'])\n",
        "df.to_csv('results_1126_step2_1.csv', header=True, index=False)"
      ],
      "execution_count": 31,
      "outputs": []
    },
    {
      "cell_type": "code",
      "metadata": {
        "id": "bU4PA80i3iJO",
        "colab": {
          "base_uri": "https://localhost:8080/",
          "height": 295
        },
        "outputId": "9e2df049-9517-4f96-b5e3-601f26010b01"
      },
      "source": [
        "# plot accuracy and loss to evaluate the learning curve\n",
        "plt.close('all')\n",
        "plt.plot(H2.history['accuracy'])\n",
        "plt.plot(H2.history['val_accuracy'])\n",
        "plt.title('model accuracy')\n",
        "plt.xlabel('epoch')\n",
        "plt.ylabel('accuracy')\n",
        "plt.legend(['training','validation'], loc='lower right')\n",
        "plt.savefig('accuracy_step2') \n",
        "plt.show()\n"
      ],
      "execution_count": 32,
      "outputs": [
        {
          "output_type": "display_data",
          "data": {
            "image/png": "[encoded data removed]",
            "text/plain": [
              "<Figure size 432x288 with 1 Axes>"
            ]
          },
          "metadata": {
            "needs_background": "light"
          }
        }
      ]
    },
    {
      "cell_type": "code",
      "metadata": {
        "id": "ztOUkf8d338y",
        "colab": {
          "base_uri": "https://localhost:8080/",
          "height": 295
        },
        "outputId": "a8cad94c-6af1-4e43-c221-378a25c169b4"
      },
      "source": [
        "plt.close('all')\n",
        "plt.plot(H2.history['loss'])\n",
        "plt.plot(H2.history['val_loss'])\n",
        "plt.title('model loss')\n",
        "plt.xlabel('epoch')\n",
        "plt.ylabel('loss')\n",
        "plt.legend(['training','validation'], loc='upper right')\n",
        "plt.savefig('loss_step2')\n",
        "plt.show()"
      ],
      "execution_count": 33,
      "outputs": [
        {
          "output_type": "display_data",
          "data": {
            "image/png": "[encoded data removed]",
            "text/plain": [
              "<Figure size 432x288 with 1 Axes>"
            ]
          },
          "metadata": {
            "needs_background": "light"
          }
        }
      ]
    }
  ]
}